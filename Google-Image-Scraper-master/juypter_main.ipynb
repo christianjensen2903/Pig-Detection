{
 "cells": [
  {
   "cell_type": "markdown",
   "metadata": {},
   "source": [
    "<h3>Google Image Scraper for Juypter Notebook</h3>"
   ]
  },
  {
   "cell_type": "code",
   "execution_count": 1,
   "metadata": {},
   "outputs": [
    {
     "name": "stderr",
     "output_type": "stream",
     "text": [
      "\n",
      "\n",
      "====== WebDriver manager ======\n",
      "Current google-chrome version is 105.0.5195\n",
      "Get LATEST chromedriver version for 105.0.5195 google-chrome\n"
     ]
    },
    {
     "name": "stdout",
     "output_type": "stream",
     "text": [
      "horse\n",
      "[INFO] Image path not found. Creating a new folder.\n"
     ]
    },
    {
     "name": "stderr",
     "output_type": "stream",
     "text": [
      "Driver [/Users/christianjensen/.wdm/drivers/chromedriver/mac64/105.0.5195.52/chromedriver] found in cache\n"
     ]
    },
    {
     "name": "stdout",
     "output_type": "stream",
     "text": [
      "[INFO] Gathering image links\n",
      "[INFO] horse \t #0 \t https://cdn.pixabay.com/photo/2018/07/21/03/55/woman-3551832__480.jpg\n",
      "[INFO] horse \t #1 \t https://th-thumbnailer.cdn-si-edu.com/aZINl-wLtWrRfYD9ni4WU3STuDg=/fit-in/1600x0/filters:focal(3008x2005:3009x2006)/https://tf-cmsv2-smithsonianmag-media.s3.amazonaws.com/filer_public/6b/c3/6bc305cb-95dd-4e22-b45b-108c6e218200/gettyimages-1144833913.jpg\n",
      "[INFO] horse \t #2 \t https://cdn.globetrotting.com.au/20211015220331/shutterstock_1617566971-e1634299512707.jpg\n",
      "[INFO] horse \t #3 \t https://www.collinsdictionary.com/images/full/horse_84139573.jpg\n",
      "[INFO] horse \t #4 \t https://iadsb.tmgrup.com.tr/7ddb86/0/0/0/0/1926/1086?u=https://idsb.tmgrup.com.tr/2018/05/22/horses-the-wings-of-mankind-1527015927739.jpg\n",
      "[INFO] horse \t #5 \t https://thehorse.com/wp-content/uploads/2022/08/OlderHorse-Drylot-iStock-664174046.jpg\n",
      "[INFO] horse \t #6 \t https://img.freepik.com/free-vector/brown-horse-jumping-cartoon_1308-107035.jpg?w=2000\n",
      "[INFO] horse \t #7 \t https://upload.wikimedia.org/wikipedia/commons/thumb/d/d1/Holsteiner_Apfelschimmel-2005.jpg/800px-Holsteiner_Apfelschimmel-2005.jpg\n",
      "[INFO] horse \t #8 \t https://upload.wikimedia.org/wikipedia/commons/thumb/d/d1/Holsteiner_Apfelschimmel-2005.jpg/800px-Holsteiner_Apfelschimmel-2005.jpg\n",
      "[INFO] horse \t #9 \t https://upload.wikimedia.org/wikipedia/commons/thumb/8/85/Points_of_a_horse.jpg/330px-Points_of_a_horse.jpg\n",
      "[INFO] Google search ended\n",
      "False\n",
      "[INFO] Saving image, please wait...\n",
      "[INFO] Image url:https://cdn.pixabay.com/photo/2018/07/21/03/55/woman-3551832__480.jpg\n",
      "[INFO] horse \t 0 \t Image saved at: /Users/christianjensen/Library/CloudStorage/OneDrive-UniversityofCopenhagen/2 - Projects/DM-AI-2022/pig_detection/Google-Image-Scraper-master/photos/horse/horse0.jpeg\n",
      "[INFO] Image url:https://th-thumbnailer.cdn-si-edu.com/aZINl-wLtWrRfYD9ni4WU3STuDg=/fit-in/1600x0/filters:focal(3008x2005:3009x2006)/https://tf-cmsv2-smithsonianmag-media.s3.amazonaws.com/filer_public/6b/c3/6bc305cb-95dd-4e22-b45b-108c6e218200/gettyimages-1144833913.jpg\n",
      "[INFO] horse \t 1 \t Image saved at: /Users/christianjensen/Library/CloudStorage/OneDrive-UniversityofCopenhagen/2 - Projects/DM-AI-2022/pig_detection/Google-Image-Scraper-master/photos/horse/horse1.jpeg\n",
      "[INFO] Image url:https://cdn.globetrotting.com.au/20211015220331/shutterstock_1617566971-e1634299512707.jpg\n",
      "[INFO] horse \t 2 \t Image saved at: /Users/christianjensen/Library/CloudStorage/OneDrive-UniversityofCopenhagen/2 - Projects/DM-AI-2022/pig_detection/Google-Image-Scraper-master/photos/horse/horse2.jpeg\n",
      "[INFO] Image url:https://www.collinsdictionary.com/images/full/horse_84139573.jpg\n",
      "[INFO] Image url:https://iadsb.tmgrup.com.tr/7ddb86/0/0/0/0/1926/1086?u=https://idsb.tmgrup.com.tr/2018/05/22/horses-the-wings-of-mankind-1527015927739.jpg\n",
      "[INFO] horse \t 4 \t Image saved at: /Users/christianjensen/Library/CloudStorage/OneDrive-UniversityofCopenhagen/2 - Projects/DM-AI-2022/pig_detection/Google-Image-Scraper-master/photos/horse/horse4.jpeg\n",
      "[INFO] Image url:https://thehorse.com/wp-content/uploads/2022/08/OlderHorse-Drylot-iStock-664174046.jpg\n",
      "[INFO] horse \t 5 \t Image saved at: /Users/christianjensen/Library/CloudStorage/OneDrive-UniversityofCopenhagen/2 - Projects/DM-AI-2022/pig_detection/Google-Image-Scraper-master/photos/horse/horse5.jpeg\n",
      "[INFO] Image url:https://img.freepik.com/free-vector/brown-horse-jumping-cartoon_1308-107035.jpg?w=2000\n",
      "[INFO] horse \t 6 \t Image saved at: /Users/christianjensen/Library/CloudStorage/OneDrive-UniversityofCopenhagen/2 - Projects/DM-AI-2022/pig_detection/Google-Image-Scraper-master/photos/horse/horse6.jpeg\n",
      "[INFO] Image url:https://upload.wikimedia.org/wikipedia/commons/thumb/d/d1/Holsteiner_Apfelschimmel-2005.jpg/800px-Holsteiner_Apfelschimmel-2005.jpg\n",
      "[INFO] horse \t 7 \t Image saved at: /Users/christianjensen/Library/CloudStorage/OneDrive-UniversityofCopenhagen/2 - Projects/DM-AI-2022/pig_detection/Google-Image-Scraper-master/photos/horse/horse7.jpeg\n",
      "[INFO] Image url:https://upload.wikimedia.org/wikipedia/commons/thumb/d/d1/Holsteiner_Apfelschimmel-2005.jpg/800px-Holsteiner_Apfelschimmel-2005.jpg\n",
      "[INFO] horse \t 8 \t Image saved at: /Users/christianjensen/Library/CloudStorage/OneDrive-UniversityofCopenhagen/2 - Projects/DM-AI-2022/pig_detection/Google-Image-Scraper-master/photos/horse/horse8.jpeg\n",
      "[INFO] Image url:https://upload.wikimedia.org/wikipedia/commons/thumb/8/85/Points_of_a_horse.jpg/330px-Points_of_a_horse.jpg\n"
     ]
    },
    {
     "name": "stderr",
     "output_type": "stream",
     "text": [
      "\n",
      "\n",
      "====== WebDriver manager ======\n",
      "Current google-chrome version is 105.0.5195\n",
      "Get LATEST chromedriver version for 105.0.5195 google-chrome\n"
     ]
    },
    {
     "name": "stdout",
     "output_type": "stream",
     "text": [
      "[INFO] horse \t 9 \t Image saved at: /Users/christianjensen/Library/CloudStorage/OneDrive-UniversityofCopenhagen/2 - Projects/DM-AI-2022/pig_detection/Google-Image-Scraper-master/photos/horse/horse9.jpeg\n",
      "--------------------------------------------------\n",
      "[INFO] Downloads completed. Please note that some photos were not downloaded as they were not in the correct format (e.g. jpg, jpeg, png)\n",
      "dog\n",
      "[INFO] Image path not found. Creating a new folder.\n"
     ]
    },
    {
     "name": "stderr",
     "output_type": "stream",
     "text": [
      "Driver [/Users/christianjensen/.wdm/drivers/chromedriver/mac64/105.0.5195.52/chromedriver] found in cache\n"
     ]
    },
    {
     "name": "stdout",
     "output_type": "stream",
     "text": [
      "[INFO] Gathering image links\n",
      "[INFO] dog \t #0 \t https://i.guim.co.uk/img/media/fe1e34da640c5c56ed16f76ce6f994fa9343d09d/0_174_3408_2046/master/3408.jpg?width=1200&height=900&quality=85&auto=format&fit=crop&s=0d3f33fb6aa6e0154b7713a00454c83d\n",
      "[INFO] dog \t #1 \t https://i.natgeofe.com/n/4f5aaece-3300-41a4-b2a8-ed2708a0a27c/domestic-dog_thumb_4x3.jpg\n",
      "[INFO] Maximum missed photos reached, exiting...\n",
      "[INFO] Google search ended\n",
      "False\n",
      "[INFO] Saving image, please wait...\n",
      "[INFO] Image url:https://i.guim.co.uk/img/media/fe1e34da640c5c56ed16f76ce6f994fa9343d09d/0_174_3408_2046/master/3408.jpg?width=1200&height=900&quality=85&auto=format&fit=crop&s=0d3f33fb6aa6e0154b7713a00454c83d\n",
      "[INFO] dog \t 0 \t Image saved at: /Users/christianjensen/Library/CloudStorage/OneDrive-UniversityofCopenhagen/2 - Projects/DM-AI-2022/pig_detection/Google-Image-Scraper-master/photos/dog/dog0.jpeg\n",
      "[INFO] Image url:https://i.natgeofe.com/n/4f5aaece-3300-41a4-b2a8-ed2708a0a27c/domestic-dog_thumb_4x3.jpg\n"
     ]
    },
    {
     "name": "stderr",
     "output_type": "stream",
     "text": [
      "\n",
      "\n",
      "====== WebDriver manager ======\n"
     ]
    },
    {
     "name": "stdout",
     "output_type": "stream",
     "text": [
      "[INFO] dog \t 1 \t Image saved at: /Users/christianjensen/Library/CloudStorage/OneDrive-UniversityofCopenhagen/2 - Projects/DM-AI-2022/pig_detection/Google-Image-Scraper-master/photos/dog/dog1.jpeg\n",
      "--------------------------------------------------\n",
      "[INFO] Downloads completed. Please note that some photos were not downloaded as they were not in the correct format (e.g. jpg, jpeg, png)\n",
      "cow\n",
      "[INFO] Image path not found. Creating a new folder.\n"
     ]
    },
    {
     "name": "stderr",
     "output_type": "stream",
     "text": [
      "Current google-chrome version is 105.0.5195\n",
      "Get LATEST chromedriver version for 105.0.5195 google-chrome\n",
      "Driver [/Users/christianjensen/.wdm/drivers/chromedriver/mac64/105.0.5195.52/chromedriver] found in cache\n"
     ]
    },
    {
     "name": "stdout",
     "output_type": "stream",
     "text": [
      "[INFO] Gathering image links\n",
      "[INFO] cow \t #0 \t https://cdn.britannica.com/55/174255-050-526314B6/brown-Guernsey-cow.jpg\n",
      "[INFO] cow \t #1 \t https://upload.wikimedia.org/wikipedia/commons/8/8c/Cow_%28Fleckvieh_breed%29_Oeschinensee_Slaunger_2009-07-07.jpg\n",
      "[INFO] cow \t #2 \t https://upload.wikimedia.org/wikipedia/commons/0/0c/Cow_female_black_white.jpg\n",
      "[INFO] cow \t #3 \t https://media.4-paws.org/e/8/2/7/e82789b9dc8a986d3b61c0aa7610affeecb93933/VIER%20PFOTEN_2015-04-27_010-1927x1333.jpg\n",
      "[INFO] cow \t #4 \t https://upload.wikimedia.org/wikipedia/commons/thumb/a/ae/Koe_in_weiland_bij_Gorssel.JPG/800px-Koe_in_weiland_bij_Gorssel.JPG\n",
      "[INFO] cow \t #5 \t https://media.newyorker.com/photos/62506f4239f6a81b959af989/4:3/w_2664,h_1998,c_limit/brody-cow.jpg\n",
      "[INFO] cow \t #6 \t https://www.collinsdictionary.com/images/full/cow_55631443.jpg\n",
      "[INFO] cow \t #7 \t https://artprojectsforkids.org/wp-content/uploads/2021/01/Cow.jpeg\n",
      "[INFO] cow \t #8 \t https://i0.wp.com/blog.frontiersin.org/wp-content/uploads/2021/06/frontiers-bioengineering-biotechnology-cow-rumen-microbes-source-of-novel-enzymes-breaking-down-plastic-waste.jpg?ssl=1\n",
      "[INFO] cow \t #9 \t https://images.unsplash.com/photo-1570042225831-d98fa7577f1e?ixlib=rb-1.2.1&ixid=MnwxMjA3fDB8MHxleHBsb3JlLWZlZWR8NHx8fGVufDB8fHx8&w=1000&q=80\n",
      "[INFO] Google search ended\n",
      "False\n",
      "[INFO] Saving image, please wait...\n",
      "[INFO] Image url:https://cdn.britannica.com/55/174255-050-526314B6/brown-Guernsey-cow.jpg\n",
      "[INFO] cow \t 0 \t Image saved at: /Users/christianjensen/Library/CloudStorage/OneDrive-UniversityofCopenhagen/2 - Projects/DM-AI-2022/pig_detection/Google-Image-Scraper-master/photos/cow/cow0.jpeg\n",
      "[INFO] Image url:https://upload.wikimedia.org/wikipedia/commons/8/8c/Cow_%28Fleckvieh_breed%29_Oeschinensee_Slaunger_2009-07-07.jpg\n",
      "[INFO] Image url:https://upload.wikimedia.org/wikipedia/commons/0/0c/Cow_female_black_white.jpg\n",
      "[INFO] cow \t 2 \t Image saved at: /Users/christianjensen/Library/CloudStorage/OneDrive-UniversityofCopenhagen/2 - Projects/DM-AI-2022/pig_detection/Google-Image-Scraper-master/photos/cow/cow2.jpeg\n",
      "[INFO] Image url:https://media.4-paws.org/e/8/2/7/e82789b9dc8a986d3b61c0aa7610affeecb93933/VIER%20PFOTEN_2015-04-27_010-1927x1333.jpg\n",
      "[INFO] cow \t 3 \t Image saved at: /Users/christianjensen/Library/CloudStorage/OneDrive-UniversityofCopenhagen/2 - Projects/DM-AI-2022/pig_detection/Google-Image-Scraper-master/photos/cow/cow3.jpeg\n",
      "[INFO] Image url:https://upload.wikimedia.org/wikipedia/commons/thumb/a/ae/Koe_in_weiland_bij_Gorssel.JPG/800px-Koe_in_weiland_bij_Gorssel.JPG\n",
      "[INFO] cow \t 4 \t Image saved at: /Users/christianjensen/Library/CloudStorage/OneDrive-UniversityofCopenhagen/2 - Projects/DM-AI-2022/pig_detection/Google-Image-Scraper-master/photos/cow/cow4.jpeg\n",
      "[INFO] Image url:https://media.newyorker.com/photos/62506f4239f6a81b959af989/4:3/w_2664,h_1998,c_limit/brody-cow.jpg\n",
      "[INFO] cow \t 5 \t Image saved at: /Users/christianjensen/Library/CloudStorage/OneDrive-UniversityofCopenhagen/2 - Projects/DM-AI-2022/pig_detection/Google-Image-Scraper-master/photos/cow/cow5.jpeg\n",
      "[INFO] Image url:https://www.collinsdictionary.com/images/full/cow_55631443.jpg\n",
      "[INFO] Image url:https://artprojectsforkids.org/wp-content/uploads/2021/01/Cow.jpeg\n",
      "[INFO] cow \t 7 \t Image saved at: /Users/christianjensen/Library/CloudStorage/OneDrive-UniversityofCopenhagen/2 - Projects/DM-AI-2022/pig_detection/Google-Image-Scraper-master/photos/cow/cow7.jpeg\n",
      "[INFO] Image url:https://i0.wp.com/blog.frontiersin.org/wp-content/uploads/2021/06/frontiers-bioengineering-biotechnology-cow-rumen-microbes-source-of-novel-enzymes-breaking-down-plastic-waste.jpg?ssl=1\n",
      "[INFO] cow \t 8 \t Image saved at: /Users/christianjensen/Library/CloudStorage/OneDrive-UniversityofCopenhagen/2 - Projects/DM-AI-2022/pig_detection/Google-Image-Scraper-master/photos/cow/cow8.jpeg\n",
      "[INFO] Image url:https://images.unsplash.com/photo-1570042225831-d98fa7577f1e?ixlib=rb-1.2.1&ixid=MnwxMjA3fDB8MHxleHBsb3JlLWZlZWR8NHx8fGVufDB8fHx8&w=1000&q=80\n"
     ]
    },
    {
     "name": "stderr",
     "output_type": "stream",
     "text": [
      "\n",
      "\n",
      "====== WebDriver manager ======\n",
      "Current google-chrome version is 105.0.5195\n",
      "Get LATEST chromedriver version for 105.0.5195 google-chrome\n"
     ]
    },
    {
     "name": "stdout",
     "output_type": "stream",
     "text": [
      "[INFO] cow \t 9 \t Image saved at: /Users/christianjensen/Library/CloudStorage/OneDrive-UniversityofCopenhagen/2 - Projects/DM-AI-2022/pig_detection/Google-Image-Scraper-master/photos/cow/cow9.jpeg\n",
      "--------------------------------------------------\n",
      "[INFO] Downloads completed. Please note that some photos were not downloaded as they were not in the correct format (e.g. jpg, jpeg, png)\n",
      "sheep\n",
      "[INFO] Image path not found. Creating a new folder.\n"
     ]
    },
    {
     "name": "stderr",
     "output_type": "stream",
     "text": [
      "Driver [/Users/christianjensen/.wdm/drivers/chromedriver/mac64/105.0.5195.52/chromedriver] found in cache\n"
     ]
    },
    {
     "name": "stdout",
     "output_type": "stream",
     "text": [
      "[INFO] Gathering image links\n",
      "[INFO] sheep \t #0 \t https://upload.wikimedia.org/wikipedia/commons/thumb/2/2c/Flock_of_sheep.jpg/1200px-Flock_of_sheep.jpg\n",
      "[INFO] sheep \t #1 \t https://upload.wikimedia.org/wikipedia/commons/thumb/2/29/Cotswold_Sheep_%28cropped%29.JPG/1200px-Cotswold_Sheep_%28cropped%29.JPG\n",
      "[INFO] sheep \t #2 \t https://cdn.britannica.com/39/95439-050-78B87F34/Adult-sheep-lambs.jpg\n",
      "[INFO] sheep \t #3 \t https://cdn.britannica.com/33/62833-004-2640F8FE/Cheviot-ram.jpg?w=300&h=169&c=crop\n",
      "[INFO] sheep \t #4 \t https://cdn.mos.cms.futurecdn.net/8k3DjpgmsoD7fKwk3zyBEf.jpg\n",
      "[INFO] sheep \t #5 \t https://upload.wikimedia.org/wikipedia/commons/thumb/e/e7/Ovis_orientalis_aries_%27Skudde%27_%28aka%29.jpg/800px-Ovis_orientalis_aries_%27Skudde%27_%28aka%29.jpg\n",
      "[INFO] sheep \t #6 \t https://img.freepik.com/free-vector/cute-sheep-animal-cartoon-sticker_1308-76259.jpg?w=2000\n",
      "[INFO] sheep \t #7 \t https://www.ciwf.org.uk/media/7430330/sheep-closeup-eating-grass.jpg?anchor=center&mode=crop&width=730&height=400&rnd=131364863080000000\n",
      "[INFO] sheep \t #8 \t https://shop.pictureserver.net/images/pic/72/0a/undef_src_sa_picid_783617_x_760_type_whitesh_image.jpg?ver=10\n",
      "[INFO] sheep \t #9 \t https://static.wikia.nocookie.net/animals/images/b/ba/Sheep.jpg/revision/latest/scale-to-width-down/1200?cb=20190209033122\n",
      "[INFO] Google search ended\n",
      "False\n",
      "[INFO] Saving image, please wait...\n",
      "[INFO] Image url:https://upload.wikimedia.org/wikipedia/commons/thumb/2/2c/Flock_of_sheep.jpg/1200px-Flock_of_sheep.jpg\n",
      "[INFO] sheep \t 0 \t Image saved at: /Users/christianjensen/Library/CloudStorage/OneDrive-UniversityofCopenhagen/2 - Projects/DM-AI-2022/pig_detection/Google-Image-Scraper-master/photos/sheep/sheep0.jpeg\n",
      "[INFO] Image url:https://upload.wikimedia.org/wikipedia/commons/thumb/2/29/Cotswold_Sheep_%28cropped%29.JPG/1200px-Cotswold_Sheep_%28cropped%29.JPG\n",
      "[INFO] sheep \t 1 \t Image saved at: /Users/christianjensen/Library/CloudStorage/OneDrive-UniversityofCopenhagen/2 - Projects/DM-AI-2022/pig_detection/Google-Image-Scraper-master/photos/sheep/sheep1.jpeg\n",
      "[INFO] Image url:https://cdn.britannica.com/39/95439-050-78B87F34/Adult-sheep-lambs.jpg\n",
      "[INFO] sheep \t 2 \t Image saved at: /Users/christianjensen/Library/CloudStorage/OneDrive-UniversityofCopenhagen/2 - Projects/DM-AI-2022/pig_detection/Google-Image-Scraper-master/photos/sheep/sheep2.jpeg\n",
      "[INFO] Image url:https://cdn.britannica.com/33/62833-004-2640F8FE/Cheviot-ram.jpg?w=300&h=169&c=crop\n",
      "[INFO] sheep \t 3 \t Image saved at: /Users/christianjensen/Library/CloudStorage/OneDrive-UniversityofCopenhagen/2 - Projects/DM-AI-2022/pig_detection/Google-Image-Scraper-master/photos/sheep/sheep3.gif\n",
      "[INFO] Image url:https://cdn.mos.cms.futurecdn.net/8k3DjpgmsoD7fKwk3zyBEf.jpg\n",
      "[INFO] sheep \t 4 \t Image saved at: /Users/christianjensen/Library/CloudStorage/OneDrive-UniversityofCopenhagen/2 - Projects/DM-AI-2022/pig_detection/Google-Image-Scraper-master/photos/sheep/sheep4.jpeg\n",
      "[INFO] Image url:https://upload.wikimedia.org/wikipedia/commons/thumb/e/e7/Ovis_orientalis_aries_%27Skudde%27_%28aka%29.jpg/800px-Ovis_orientalis_aries_%27Skudde%27_%28aka%29.jpg\n",
      "[INFO] sheep \t 5 \t Image saved at: /Users/christianjensen/Library/CloudStorage/OneDrive-UniversityofCopenhagen/2 - Projects/DM-AI-2022/pig_detection/Google-Image-Scraper-master/photos/sheep/sheep5.jpeg\n",
      "[INFO] Image url:https://img.freepik.com/free-vector/cute-sheep-animal-cartoon-sticker_1308-76259.jpg?w=2000\n",
      "[INFO] sheep \t 6 \t Image saved at: /Users/christianjensen/Library/CloudStorage/OneDrive-UniversityofCopenhagen/2 - Projects/DM-AI-2022/pig_detection/Google-Image-Scraper-master/photos/sheep/sheep6.jpeg\n",
      "[INFO] Image url:https://www.ciwf.org.uk/media/7430330/sheep-closeup-eating-grass.jpg?anchor=center&mode=crop&width=730&height=400&rnd=131364863080000000\n",
      "[INFO] sheep \t 7 \t Image saved at: /Users/christianjensen/Library/CloudStorage/OneDrive-UniversityofCopenhagen/2 - Projects/DM-AI-2022/pig_detection/Google-Image-Scraper-master/photos/sheep/sheep7.jpeg\n",
      "[INFO] Image url:https://shop.pictureserver.net/images/pic/72/0a/undef_src_sa_picid_783617_x_760_type_whitesh_image.jpg?ver=10\n",
      "[INFO] sheep \t 8 \t Image saved at: /Users/christianjensen/Library/CloudStorage/OneDrive-UniversityofCopenhagen/2 - Projects/DM-AI-2022/pig_detection/Google-Image-Scraper-master/photos/sheep/sheep8.jpeg\n",
      "[INFO] Image url:https://static.wikia.nocookie.net/animals/images/b/ba/Sheep.jpg/revision/latest/scale-to-width-down/1200?cb=20190209033122\n"
     ]
    },
    {
     "name": "stderr",
     "output_type": "stream",
     "text": [
      "\n",
      "\n",
      "====== WebDriver manager ======\n",
      "Current google-chrome version is 105.0.5195\n",
      "Get LATEST chromedriver version for 105.0.5195 google-chrome\n"
     ]
    },
    {
     "name": "stdout",
     "output_type": "stream",
     "text": [
      "[INFO] sheep \t 9 \t Image saved at: /Users/christianjensen/Library/CloudStorage/OneDrive-UniversityofCopenhagen/2 - Projects/DM-AI-2022/pig_detection/Google-Image-Scraper-master/photos/sheep/sheep9.jpeg\n",
      "--------------------------------------------------\n",
      "[INFO] Downloads completed. Please note that some photos were not downloaded as they were not in the correct format (e.g. jpg, jpeg, png)\n",
      "goat\n",
      "[INFO] Image path not found. Creating a new folder.\n"
     ]
    },
    {
     "name": "stderr",
     "output_type": "stream",
     "text": [
      "Driver [/Users/christianjensen/.wdm/drivers/chromedriver/mac64/105.0.5195.52/chromedriver] found in cache\n"
     ]
    },
    {
     "name": "stdout",
     "output_type": "stream",
     "text": [
      "[INFO] Gathering image links\n",
      "[INFO] goat \t #0 \t https://upload.wikimedia.org/wikipedia/commons/b/b2/Hausziege_04.jpg\n",
      "[INFO] goat \t #1 \t https://cdn.britannica.com/41/119041-050-8B84B093/goat.jpg\n",
      "[INFO] goat \t #2 \t https://upload.wikimedia.org/wikipedia/commons/thumb/c/c0/Gorge_du_Verdon_Goat_0254.jpg/1200px-Gorge_du_Verdon_Goat_0254.jpg\n",
      "[INFO] goat \t #3 \t https://play-lh.googleusercontent.com/8QnH9AhsRfhPott7REiFUXXJLRIxi8KMAP0mFAZpYgd44OTOCtScwXeb5oPe1E4eP4oF\n",
      "[INFO] goat \t #4 \t https://upload.wikimedia.org/wikipedia/commons/f/ff/Domestic_goat_kid_in_capeweed.jpg\n",
      "[INFO] goat \t #5 \t https://img.freepik.com/free-vector/white-goat-cartoon-character_1308-108587.jpg?w=2000\n",
      "[INFO] goat \t #6 \t https://cdn1.epicgames.com/offer/50bbaf85f4454b1c88786efeede5b302/EGS_GoatSimulator3PreUdderStandardEdition_CoffeeStainNorthAB_Bundles_S1_2560x1440-abe5fb17ae3d47330cf310d2b1cfe138\n",
      "[INFO] goat \t #7 \t https://image.api.playstation.com/cdn/EP4415/CUSA02779_00/05UDaF6g0ZyfhUZdSg5xgRRpuNBDep4Q.png\n",
      "[INFO] goat \t #8 \t https://live-production.wcms.abc-cdn.net.au/e417067e3fc409d3fcce89559b1ac51c?impolicy=wcms_crop_resize&cropH=1964&cropW=2950&xPos=0&yPos=126&width=862&height=575\n",
      "[INFO] goat \t #9 \t https://th-thumbnailer.cdn-si-edu.com/S1QUXEGEJ_0Tr1aiVUSYlKxNP7s=/1000x750/filters:no_upscale()/https://tf-cmsv2-smithsonianmag-media.s3.amazonaws.com/filer/b9/d2/b9d271f3-7f66-4132-b5af-7d33844505b7/goat.jpg\n",
      "[INFO] Google search ended\n",
      "False\n",
      "[INFO] Saving image, please wait...\n",
      "[INFO] Image url:https://upload.wikimedia.org/wikipedia/commons/b/b2/Hausziege_04.jpg\n",
      "[INFO] goat \t 0 \t Image saved at: /Users/christianjensen/Library/CloudStorage/OneDrive-UniversityofCopenhagen/2 - Projects/DM-AI-2022/pig_detection/Google-Image-Scraper-master/photos/goat/goat0.jpeg\n",
      "[INFO] Image url:https://cdn.britannica.com/41/119041-050-8B84B093/goat.jpg\n",
      "[INFO] goat \t 1 \t Image saved at: /Users/christianjensen/Library/CloudStorage/OneDrive-UniversityofCopenhagen/2 - Projects/DM-AI-2022/pig_detection/Google-Image-Scraper-master/photos/goat/goat1.jpeg\n",
      "[INFO] Image url:https://upload.wikimedia.org/wikipedia/commons/thumb/c/c0/Gorge_du_Verdon_Goat_0254.jpg/1200px-Gorge_du_Verdon_Goat_0254.jpg\n",
      "[INFO] goat \t 2 \t Image saved at: /Users/christianjensen/Library/CloudStorage/OneDrive-UniversityofCopenhagen/2 - Projects/DM-AI-2022/pig_detection/Google-Image-Scraper-master/photos/goat/goat2.jpeg\n",
      "[INFO] Image url:https://play-lh.googleusercontent.com/8QnH9AhsRfhPott7REiFUXXJLRIxi8KMAP0mFAZpYgd44OTOCtScwXeb5oPe1E4eP4oF\n",
      "[INFO] goat \t 3 \t Image saved at: /Users/christianjensen/Library/CloudStorage/OneDrive-UniversityofCopenhagen/2 - Projects/DM-AI-2022/pig_detection/Google-Image-Scraper-master/photos/goat/goat3.png\n",
      "[INFO] Image url:https://upload.wikimedia.org/wikipedia/commons/f/ff/Domestic_goat_kid_in_capeweed.jpg\n",
      "[INFO] goat \t 4 \t Image saved at: /Users/christianjensen/Library/CloudStorage/OneDrive-UniversityofCopenhagen/2 - Projects/DM-AI-2022/pig_detection/Google-Image-Scraper-master/photos/goat/goat4.jpeg\n",
      "[INFO] Image url:https://img.freepik.com/free-vector/white-goat-cartoon-character_1308-108587.jpg?w=2000\n",
      "[INFO] goat \t 5 \t Image saved at: /Users/christianjensen/Library/CloudStorage/OneDrive-UniversityofCopenhagen/2 - Projects/DM-AI-2022/pig_detection/Google-Image-Scraper-master/photos/goat/goat5.jpeg\n",
      "[INFO] Image url:https://cdn1.epicgames.com/offer/50bbaf85f4454b1c88786efeede5b302/EGS_GoatSimulator3PreUdderStandardEdition_CoffeeStainNorthAB_Bundles_S1_2560x1440-abe5fb17ae3d47330cf310d2b1cfe138\n",
      "[INFO] goat \t 6 \t Image saved at: /Users/christianjensen/Library/CloudStorage/OneDrive-UniversityofCopenhagen/2 - Projects/DM-AI-2022/pig_detection/Google-Image-Scraper-master/photos/goat/goat6.jpeg\n",
      "[INFO] Image url:https://image.api.playstation.com/cdn/EP4415/CUSA02779_00/05UDaF6g0ZyfhUZdSg5xgRRpuNBDep4Q.png\n",
      "[INFO] goat \t 7 \t Image saved at: /Users/christianjensen/Library/CloudStorage/OneDrive-UniversityofCopenhagen/2 - Projects/DM-AI-2022/pig_detection/Google-Image-Scraper-master/photos/goat/goat7.jpeg\n",
      "[INFO] Image url:https://live-production.wcms.abc-cdn.net.au/e417067e3fc409d3fcce89559b1ac51c?impolicy=wcms_crop_resize&cropH=1964&cropW=2950&xPos=0&yPos=126&width=862&height=575\n",
      "[INFO] goat \t 8 \t Image saved at: /Users/christianjensen/Library/CloudStorage/OneDrive-UniversityofCopenhagen/2 - Projects/DM-AI-2022/pig_detection/Google-Image-Scraper-master/photos/goat/goat8.jpeg\n",
      "[INFO] Image url:https://th-thumbnailer.cdn-si-edu.com/S1QUXEGEJ_0Tr1aiVUSYlKxNP7s=/1000x750/filters:no_upscale()/https://tf-cmsv2-smithsonianmag-media.s3.amazonaws.com/filer/b9/d2/b9d271f3-7f66-4132-b5af-7d33844505b7/goat.jpg\n"
     ]
    },
    {
     "name": "stderr",
     "output_type": "stream",
     "text": [
      "\n",
      "\n",
      "====== WebDriver manager ======\n"
     ]
    },
    {
     "name": "stdout",
     "output_type": "stream",
     "text": [
      "[INFO] goat \t 9 \t Image saved at: /Users/christianjensen/Library/CloudStorage/OneDrive-UniversityofCopenhagen/2 - Projects/DM-AI-2022/pig_detection/Google-Image-Scraper-master/photos/goat/goat9.jpeg\n",
      "--------------------------------------------------\n",
      "[INFO] Downloads completed. Please note that some photos were not downloaded as they were not in the correct format (e.g. jpg, jpeg, png)\n",
      "bear\n",
      "[INFO] Image path not found. Creating a new folder.\n"
     ]
    },
    {
     "name": "stderr",
     "output_type": "stream",
     "text": [
      "Current google-chrome version is 105.0.5195\n",
      "Get LATEST chromedriver version for 105.0.5195 google-chrome\n",
      "Driver [/Users/christianjensen/.wdm/drivers/chromedriver/mac64/105.0.5195.52/chromedriver] found in cache\n"
     ]
    },
    {
     "name": "stdout",
     "output_type": "stream",
     "text": [
      "[INFO] Gathering image links\n",
      "[INFO] bear \t #0 \t https://upload.wikimedia.org/wikipedia/commons/9/9e/Ours_brun_parcanimalierpyrenees_1.jpg\n",
      "[INFO] bear \t #1 \t https://upload.wikimedia.org/wikipedia/commons/thumb/7/71/2010-kodiak-bear-1.jpg/1200px-2010-kodiak-bear-1.jpg\n",
      "[INFO] bear \t #2 \t https://i.natgeofe.com/n/3754013c-ec10-4315-b142-22b21b5bf677/bears_02_16x9.jpg\n",
      "[INFO] bear \t #3 \t https://www.bearsmart.com/wp-content/uploads/2015/01/bear-look.jpg\n",
      "[INFO] bear \t #4 \t https://i.natgeofe.com/n/6f8dbce3-f729-4eaf-a912-74dbd519a453/grizzly-bear_thumb_3x2.JPG\n",
      "[INFO] bear \t #5 \t https://www.thoughtco.com/thmb/ivzSG19pJ7o093IQO_Rw-dpDGjQ=/3867x2175/smart/filters:no_upscale()/getty-brown-bear-56afcf215f9b58b7d01d5195.jpg\n",
      "[INFO] bear \t #6 \t https://www.nps.gov/common/uploads/grid_builder/bears/crop1_1/C3BE26F2-9BDC-F09E-B6619CD1AACDD95F.jpg?width=640&quality=90&mode=crop\n",
      "[INFO] bear \t #7 \t https://cdn.britannica.com/41/156441-050-A4424AEC/Grizzly-bear-Jasper-National-Park-Canada-Alberta.jpg\n",
      "[INFO] bear \t #8 \t https://upload.wikimedia.org/wikipedia/commons/7/79/2010-brown-bear.jpg\n",
      "[INFO] bear \t #9 \t https://www.vitalground.org/wp-content/uploads/2021/11/Bart-the-Bear-II--e1637176991443.jpg\n",
      "[INFO] Google search ended\n",
      "False\n",
      "[INFO] Saving image, please wait...\n",
      "[INFO] Image url:https://upload.wikimedia.org/wikipedia/commons/9/9e/Ours_brun_parcanimalierpyrenees_1.jpg\n",
      "[INFO] bear \t 0 \t Image saved at: /Users/christianjensen/Library/CloudStorage/OneDrive-UniversityofCopenhagen/2 - Projects/DM-AI-2022/pig_detection/Google-Image-Scraper-master/photos/bear/bear0.jpeg\n",
      "[INFO] Image url:https://upload.wikimedia.org/wikipedia/commons/thumb/7/71/2010-kodiak-bear-1.jpg/1200px-2010-kodiak-bear-1.jpg\n",
      "[INFO] bear \t 1 \t Image saved at: /Users/christianjensen/Library/CloudStorage/OneDrive-UniversityofCopenhagen/2 - Projects/DM-AI-2022/pig_detection/Google-Image-Scraper-master/photos/bear/bear1.jpeg\n",
      "[INFO] Image url:https://i.natgeofe.com/n/3754013c-ec10-4315-b142-22b21b5bf677/bears_02_16x9.jpg\n",
      "[INFO] bear \t 2 \t Image saved at: /Users/christianjensen/Library/CloudStorage/OneDrive-UniversityofCopenhagen/2 - Projects/DM-AI-2022/pig_detection/Google-Image-Scraper-master/photos/bear/bear2.jpeg\n",
      "[INFO] Image url:https://www.bearsmart.com/wp-content/uploads/2015/01/bear-look.jpg\n",
      "[INFO] Image url:https://i.natgeofe.com/n/6f8dbce3-f729-4eaf-a912-74dbd519a453/grizzly-bear_thumb_3x2.JPG\n",
      "[INFO] bear \t 4 \t Image saved at: /Users/christianjensen/Library/CloudStorage/OneDrive-UniversityofCopenhagen/2 - Projects/DM-AI-2022/pig_detection/Google-Image-Scraper-master/photos/bear/bear4.jpeg\n",
      "[INFO] Image url:https://www.thoughtco.com/thmb/ivzSG19pJ7o093IQO_Rw-dpDGjQ=/3867x2175/smart/filters:no_upscale()/getty-brown-bear-56afcf215f9b58b7d01d5195.jpg\n",
      "[INFO] bear \t 5 \t Image saved at: /Users/christianjensen/Library/CloudStorage/OneDrive-UniversityofCopenhagen/2 - Projects/DM-AI-2022/pig_detection/Google-Image-Scraper-master/photos/bear/bear5.jpeg\n",
      "[INFO] Image url:https://www.nps.gov/common/uploads/grid_builder/bears/crop1_1/C3BE26F2-9BDC-F09E-B6619CD1AACDD95F.jpg?width=640&quality=90&mode=crop\n",
      "[INFO] bear \t 6 \t Image saved at: /Users/christianjensen/Library/CloudStorage/OneDrive-UniversityofCopenhagen/2 - Projects/DM-AI-2022/pig_detection/Google-Image-Scraper-master/photos/bear/bear6.jpeg\n",
      "[INFO] Image url:https://cdn.britannica.com/41/156441-050-A4424AEC/Grizzly-bear-Jasper-National-Park-Canada-Alberta.jpg\n",
      "[INFO] bear \t 7 \t Image saved at: /Users/christianjensen/Library/CloudStorage/OneDrive-UniversityofCopenhagen/2 - Projects/DM-AI-2022/pig_detection/Google-Image-Scraper-master/photos/bear/bear7.jpeg\n",
      "[INFO] Image url:https://upload.wikimedia.org/wikipedia/commons/7/79/2010-brown-bear.jpg\n",
      "[INFO] bear \t 8 \t Image saved at: /Users/christianjensen/Library/CloudStorage/OneDrive-UniversityofCopenhagen/2 - Projects/DM-AI-2022/pig_detection/Google-Image-Scraper-master/photos/bear/bear8.jpeg\n",
      "[INFO] Image url:https://www.vitalground.org/wp-content/uploads/2021/11/Bart-the-Bear-II--e1637176991443.jpg\n"
     ]
    },
    {
     "name": "stderr",
     "output_type": "stream",
     "text": [
      "\n",
      "\n",
      "====== WebDriver manager ======\n",
      "Current google-chrome version is 105.0.5195\n",
      "Get LATEST chromedriver version for 105.0.5195 google-chrome\n"
     ]
    },
    {
     "name": "stdout",
     "output_type": "stream",
     "text": [
      "[INFO] bear \t 9 \t Image saved at: /Users/christianjensen/Library/CloudStorage/OneDrive-UniversityofCopenhagen/2 - Projects/DM-AI-2022/pig_detection/Google-Image-Scraper-master/photos/bear/bear9.jpeg\n",
      "--------------------------------------------------\n",
      "[INFO] Downloads completed. Please note that some photos were not downloaded as they were not in the correct format (e.g. jpg, jpeg, png)\n",
      "dog with puppies\n",
      "[INFO] Image path not found. Creating a new folder.\n"
     ]
    },
    {
     "name": "stderr",
     "output_type": "stream",
     "text": [
      "Driver [/Users/christianjensen/.wdm/drivers/chromedriver/mac64/105.0.5195.52/chromedriver] found in cache\n"
     ]
    },
    {
     "name": "stdout",
     "output_type": "stream",
     "text": [
      "[INFO] Gathering image links\n",
      "[INFO] dog with puppies \t #0 \t https://images.medicanimal.com/image/upload/v1565958282/pethub/mum_with_pups.jpg\n",
      "[INFO] dog with puppies \t #1 \t https://static.boredpanda.com/blog/wp-content/uploads/2021/06/60bddd9b21b44-png__700.jpg\n",
      "[INFO] dog with puppies \t #2 \t https://i.ytimg.com/vi/NfZrgnTGGkc/maxresdefault.jpg\n",
      "[INFO] dog with puppies \t #3 \t https://i.ytimg.com/vi/MHlZMEC7eCs/hqdefault.jpg\n",
      "[INFO] dog with puppies \t #4 \t https://hips.hearstapps.com/hmg-prod.s3.amazonaws.com/images/dog-puppy-on-garden-royalty-free-image-1586966191.jpg\n",
      "[INFO] dog with puppies \t #5 \t https://imagesvc.meredithcorp.io/v3/mm/image?url=https%3A%2F%2Fstatic.onecms.io%2Fwp-content%2Fuploads%2Fsites%2F47%2F2021%2F05%2F13%2Fbeagle-holding-puppies-305638120-2000.jpg\n",
      "[INFO] dog with puppies \t #6 \t https://i.ytimg.com/vi/Y_iLV5yNs9I/maxresdefault.jpg\n",
      "[INFO] dog with puppies \t #7 \t https://imagesvc.meredithcorp.io/v3/mm/image?url=https%3A%2F%2Fstatic.onecms.io%2Fwp-content%2Fuploads%2Fsites%2F47%2F2022%2F06%2F03%2Fjack-russell-terrier-puppy-981611246-2000.jpg\n",
      "[INFO] dog with puppies \t #8 \t https://www.dogtime.com/assets/uploads/2011/03/puppy-development-1280x720.jpg\n",
      "[INFO] dog with puppies \t #9 \t https://image.shutterstock.com/image-photo/adult-puppies-jack-russel-terrier-260nw-191325992.jpg\n",
      "[INFO] Google search ended\n",
      "False\n",
      "[INFO] Saving image, please wait...\n",
      "[INFO] Image url:https://images.medicanimal.com/image/upload/v1565958282/pethub/mum_with_pups.jpg\n",
      "[INFO] dog with puppies \t 0 \t Image saved at: /Users/christianjensen/Library/CloudStorage/OneDrive-UniversityofCopenhagen/2 - Projects/DM-AI-2022/pig_detection/Google-Image-Scraper-master/photos/dog with puppies/dogwithpuppies0.jpeg\n",
      "[INFO] Image url:https://static.boredpanda.com/blog/wp-content/uploads/2021/06/60bddd9b21b44-png__700.jpg\n",
      "[INFO] dog with puppies \t 1 \t Image saved at: /Users/christianjensen/Library/CloudStorage/OneDrive-UniversityofCopenhagen/2 - Projects/DM-AI-2022/pig_detection/Google-Image-Scraper-master/photos/dog with puppies/dogwithpuppies1.jpeg\n",
      "[INFO] Image url:https://i.ytimg.com/vi/NfZrgnTGGkc/maxresdefault.jpg\n",
      "[INFO] dog with puppies \t 2 \t Image saved at: /Users/christianjensen/Library/CloudStorage/OneDrive-UniversityofCopenhagen/2 - Projects/DM-AI-2022/pig_detection/Google-Image-Scraper-master/photos/dog with puppies/dogwithpuppies2.jpeg\n",
      "[INFO] Image url:https://i.ytimg.com/vi/MHlZMEC7eCs/hqdefault.jpg\n",
      "[INFO] dog with puppies \t 3 \t Image saved at: /Users/christianjensen/Library/CloudStorage/OneDrive-UniversityofCopenhagen/2 - Projects/DM-AI-2022/pig_detection/Google-Image-Scraper-master/photos/dog with puppies/dogwithpuppies3.jpeg\n",
      "[INFO] Image url:https://hips.hearstapps.com/hmg-prod.s3.amazonaws.com/images/dog-puppy-on-garden-royalty-free-image-1586966191.jpg\n",
      "[INFO] dog with puppies \t 4 \t Image saved at: /Users/christianjensen/Library/CloudStorage/OneDrive-UniversityofCopenhagen/2 - Projects/DM-AI-2022/pig_detection/Google-Image-Scraper-master/photos/dog with puppies/dogwithpuppies4.jpeg\n",
      "[INFO] Image url:https://imagesvc.meredithcorp.io/v3/mm/image?url=https%3A%2F%2Fstatic.onecms.io%2Fwp-content%2Fuploads%2Fsites%2F47%2F2021%2F05%2F13%2Fbeagle-holding-puppies-305638120-2000.jpg\n",
      "[INFO] dog with puppies \t 5 \t Image saved at: /Users/christianjensen/Library/CloudStorage/OneDrive-UniversityofCopenhagen/2 - Projects/DM-AI-2022/pig_detection/Google-Image-Scraper-master/photos/dog with puppies/dogwithpuppies5.jpeg\n",
      "[INFO] Image url:https://i.ytimg.com/vi/Y_iLV5yNs9I/maxresdefault.jpg\n",
      "[INFO] dog with puppies \t 6 \t Image saved at: /Users/christianjensen/Library/CloudStorage/OneDrive-UniversityofCopenhagen/2 - Projects/DM-AI-2022/pig_detection/Google-Image-Scraper-master/photos/dog with puppies/dogwithpuppies6.jpeg\n",
      "[INFO] Image url:https://imagesvc.meredithcorp.io/v3/mm/image?url=https%3A%2F%2Fstatic.onecms.io%2Fwp-content%2Fuploads%2Fsites%2F47%2F2022%2F06%2F03%2Fjack-russell-terrier-puppy-981611246-2000.jpg\n",
      "[INFO] dog with puppies \t 7 \t Image saved at: /Users/christianjensen/Library/CloudStorage/OneDrive-UniversityofCopenhagen/2 - Projects/DM-AI-2022/pig_detection/Google-Image-Scraper-master/photos/dog with puppies/dogwithpuppies7.jpeg\n",
      "[INFO] Image url:https://www.dogtime.com/assets/uploads/2011/03/puppy-development-1280x720.jpg\n",
      "[INFO] dog with puppies \t 8 \t Image saved at: /Users/christianjensen/Library/CloudStorage/OneDrive-UniversityofCopenhagen/2 - Projects/DM-AI-2022/pig_detection/Google-Image-Scraper-master/photos/dog with puppies/dogwithpuppies8.jpeg\n",
      "[INFO] Image url:https://image.shutterstock.com/image-photo/adult-puppies-jack-russel-terrier-260nw-191325992.jpg\n"
     ]
    },
    {
     "name": "stderr",
     "output_type": "stream",
     "text": [
      "\n",
      "\n",
      "====== WebDriver manager ======\n",
      "Current google-chrome version is 105.0.5195\n",
      "Get LATEST chromedriver version for 105.0.5195 google-chrome\n"
     ]
    },
    {
     "name": "stdout",
     "output_type": "stream",
     "text": [
      "[INFO] dog with puppies \t 9 \t Image saved at: /Users/christianjensen/Library/CloudStorage/OneDrive-UniversityofCopenhagen/2 - Projects/DM-AI-2022/pig_detection/Google-Image-Scraper-master/photos/dog with puppies/dogwithpuppies9.jpeg\n",
      "--------------------------------------------------\n",
      "[INFO] Downloads completed. Please note that some photos were not downloaded as they were not in the correct format (e.g. jpg, jpeg, png)\n",
      "cow with calf\n",
      "[INFO] Image path not found. Creating a new folder.\n"
     ]
    },
    {
     "name": "stderr",
     "output_type": "stream",
     "text": [
      "Driver [/Users/christianjensen/.wdm/drivers/chromedriver/mac64/105.0.5195.52/chromedriver] found in cache\n"
     ]
    },
    {
     "name": "stdout",
     "output_type": "stream",
     "text": [
      "[INFO] Gathering image links\n",
      "[INFO] cow with calf \t #0 \t https://cdn.farmjournal.com/s3fs-public/styles/840x600/public/2021-01/Red%20cow%20with%20calf.jpg?itok=_E7DJ0Ts\n",
      "[INFO] cow with calf \t #1 \t https://images.timesproperty.com/blog/1724/Importance_of_placing_Cow_and_calf_statute_in_your_home.png\n",
      "[INFO] cow with calf \t #2 \t https://stmaaprodfwsite.blob.core.windows.net/assets/sites/1/2016/09/270916-cow-and-calf-FLPA-REX-Shutterstock-rexfeatures_3265326a.jpg\n",
      "[INFO] cow with calf \t #3 \t https://media.wired.com/photos/5932532e2a990b06268a9ccc/master/w_2560%2Cc_limit/New_born_Frisian_red_white_calf.jpg\n",
      "[INFO] cow with calf \t #4 \t http://www.wur.nl/upload/78fa240b-3008-4ea3-9b80-64ea4f36f79b_Web%2072%20DPI-shutterstock_5360617_NL_koe_roodbont_met_kalf.jpg\n",
      "[INFO] cow with calf \t #5 \t https://media.4-paws.org/4/0/4/d/404d23c6c7dae22fe56f8319c2cfd1590f35a367/VP0085093-1930x1336-1920x1329.jpg\n",
      "[INFO] cow with calf \t #6 \t https://smallfarms.cornell.edu/wp-content/uploads/2021/05/2021-Spring-SFQ-calving-cow-calf.jpeg\n",
      "[INFO] cow with calf \t #7 \t https://cdn.theatlantic.com/thumbor/VsfNwKFtY_yHMbhxwwH9fb6pdF0=/2x46:2198x1693/1200x900/media/img/mt/2016/01/RTR42WGD/original.jpg\n",
      "[INFO] cow with calf \t #8 \t https://media.istockphoto.com/photos/momma-cow-and-calf-sharing-a-nuzzle-picture-id1068254268?k=20&m=1068254268&s=612x612&w=0&h=8c873qmEWu066yx3E6_Pjo7wn_fM8OgYX6hZADc2w50=\n",
      "[INFO] cow with calf \t #9 \t https://image.shutterstock.com/shutterstock/photos/1338815084/display_1500/stock-photo-close-up-of-mother-holstein-cow-s-face-watching-over-her-tiny-newborn-calf-laying-in-the-meadow-on-1338815084.jpg\n",
      "[INFO] Google search ended\n",
      "False\n",
      "[INFO] Saving image, please wait...\n",
      "[INFO] Image url:https://cdn.farmjournal.com/s3fs-public/styles/840x600/public/2021-01/Red%20cow%20with%20calf.jpg?itok=_E7DJ0Ts\n",
      "[INFO] cow with calf \t 0 \t Image saved at: /Users/christianjensen/Library/CloudStorage/OneDrive-UniversityofCopenhagen/2 - Projects/DM-AI-2022/pig_detection/Google-Image-Scraper-master/photos/cow with calf/cowwithcalf0.jpeg\n",
      "[INFO] Image url:https://images.timesproperty.com/blog/1724/Importance_of_placing_Cow_and_calf_statute_in_your_home.png\n",
      "[INFO] cow with calf \t 1 \t Image saved at: /Users/christianjensen/Library/CloudStorage/OneDrive-UniversityofCopenhagen/2 - Projects/DM-AI-2022/pig_detection/Google-Image-Scraper-master/photos/cow with calf/cowwithcalf1.png\n",
      "[INFO] Image url:https://stmaaprodfwsite.blob.core.windows.net/assets/sites/1/2016/09/270916-cow-and-calf-FLPA-REX-Shutterstock-rexfeatures_3265326a.jpg\n",
      "[INFO] cow with calf \t 2 \t Image saved at: /Users/christianjensen/Library/CloudStorage/OneDrive-UniversityofCopenhagen/2 - Projects/DM-AI-2022/pig_detection/Google-Image-Scraper-master/photos/cow with calf/cowwithcalf2.jpeg\n",
      "[INFO] Image url:https://media.wired.com/photos/5932532e2a990b06268a9ccc/master/w_2560%2Cc_limit/New_born_Frisian_red_white_calf.jpg\n",
      "[INFO] cow with calf \t 3 \t Image saved at: /Users/christianjensen/Library/CloudStorage/OneDrive-UniversityofCopenhagen/2 - Projects/DM-AI-2022/pig_detection/Google-Image-Scraper-master/photos/cow with calf/cowwithcalf3.jpeg\n",
      "[INFO] Image url:http://www.wur.nl/upload/78fa240b-3008-4ea3-9b80-64ea4f36f79b_Web%2072%20DPI-shutterstock_5360617_NL_koe_roodbont_met_kalf.jpg\n",
      "[INFO] cow with calf \t 4 \t Image saved at: /Users/christianjensen/Library/CloudStorage/OneDrive-UniversityofCopenhagen/2 - Projects/DM-AI-2022/pig_detection/Google-Image-Scraper-master/photos/cow with calf/cowwithcalf4.jpeg\n",
      "[INFO] Image url:https://media.4-paws.org/4/0/4/d/404d23c6c7dae22fe56f8319c2cfd1590f35a367/VP0085093-1930x1336-1920x1329.jpg\n",
      "[INFO] cow with calf \t 5 \t Image saved at: /Users/christianjensen/Library/CloudStorage/OneDrive-UniversityofCopenhagen/2 - Projects/DM-AI-2022/pig_detection/Google-Image-Scraper-master/photos/cow with calf/cowwithcalf5.jpeg\n",
      "[INFO] Image url:https://smallfarms.cornell.edu/wp-content/uploads/2021/05/2021-Spring-SFQ-calving-cow-calf.jpeg\n",
      "[INFO] cow with calf \t 6 \t Image saved at: /Users/christianjensen/Library/CloudStorage/OneDrive-UniversityofCopenhagen/2 - Projects/DM-AI-2022/pig_detection/Google-Image-Scraper-master/photos/cow with calf/cowwithcalf6.jpeg\n",
      "[INFO] Image url:https://cdn.theatlantic.com/thumbor/VsfNwKFtY_yHMbhxwwH9fb6pdF0=/2x46:2198x1693/1200x900/media/img/mt/2016/01/RTR42WGD/original.jpg\n",
      "[INFO] cow with calf \t 7 \t Image saved at: /Users/christianjensen/Library/CloudStorage/OneDrive-UniversityofCopenhagen/2 - Projects/DM-AI-2022/pig_detection/Google-Image-Scraper-master/photos/cow with calf/cowwithcalf7.jpeg\n",
      "[INFO] Image url:https://media.istockphoto.com/photos/momma-cow-and-calf-sharing-a-nuzzle-picture-id1068254268?k=20&m=1068254268&s=612x612&w=0&h=8c873qmEWu066yx3E6_Pjo7wn_fM8OgYX6hZADc2w50=\n",
      "[INFO] cow with calf \t 8 \t Image saved at: /Users/christianjensen/Library/CloudStorage/OneDrive-UniversityofCopenhagen/2 - Projects/DM-AI-2022/pig_detection/Google-Image-Scraper-master/photos/cow with calf/cowwithcalf8.jpeg\n",
      "[INFO] Image url:https://image.shutterstock.com/shutterstock/photos/1338815084/display_1500/stock-photo-close-up-of-mother-holstein-cow-s-face-watching-over-her-tiny-newborn-calf-laying-in-the-meadow-on-1338815084.jpg\n"
     ]
    },
    {
     "name": "stderr",
     "output_type": "stream",
     "text": [
      "\n",
      "\n",
      "====== WebDriver manager ======\n",
      "Current google-chrome version is 105.0.5195\n",
      "Get LATEST chromedriver version for 105.0.5195 google-chrome\n"
     ]
    },
    {
     "name": "stdout",
     "output_type": "stream",
     "text": [
      "[INFO] cow with calf \t 9 \t Image saved at: /Users/christianjensen/Library/CloudStorage/OneDrive-UniversityofCopenhagen/2 - Projects/DM-AI-2022/pig_detection/Google-Image-Scraper-master/photos/cow with calf/cowwithcalf9.jpeg\n",
      "--------------------------------------------------\n",
      "[INFO] Downloads completed. Please note that some photos were not downloaded as they were not in the correct format (e.g. jpg, jpeg, png)\n",
      "sheep with lamb\n",
      "[INFO] Image path not found. Creating a new folder.\n"
     ]
    },
    {
     "name": "stderr",
     "output_type": "stream",
     "text": [
      "Driver [/Users/christianjensen/.wdm/drivers/chromedriver/mac64/105.0.5195.52/chromedriver] found in cache\n"
     ]
    },
    {
     "name": "stdout",
     "output_type": "stream",
     "text": [
      "[INFO] Gathering image links\n",
      "[INFO] sheep with lamb \t #0 \t https://a-z-animals.com/media/2021/07/lamb-vs-sheep-1200x627-1.jpg\n",
      "[INFO] sheep with lamb \t #1 \t https://cdn.britannica.com/39/95439-050-78B87F34/Adult-sheep-lambs.jpg\n",
      "[INFO] Maximum missed photos reached, exiting...\n",
      "[INFO] Google search ended\n",
      "False\n",
      "[INFO] Saving image, please wait...\n",
      "[INFO] Image url:https://a-z-animals.com/media/2021/07/lamb-vs-sheep-1200x627-1.jpg\n",
      "[INFO] sheep with lamb \t 0 \t Image saved at: /Users/christianjensen/Library/CloudStorage/OneDrive-UniversityofCopenhagen/2 - Projects/DM-AI-2022/pig_detection/Google-Image-Scraper-master/photos/sheep with lamb/sheepwithlamb0.jpeg\n",
      "[INFO] Image url:https://cdn.britannica.com/39/95439-050-78B87F34/Adult-sheep-lambs.jpg\n"
     ]
    },
    {
     "name": "stderr",
     "output_type": "stream",
     "text": [
      "\n",
      "\n",
      "====== WebDriver manager ======\n",
      "Current google-chrome version is 105.0.5195\n",
      "Get LATEST chromedriver version for 105.0.5195 google-chrome\n"
     ]
    },
    {
     "name": "stdout",
     "output_type": "stream",
     "text": [
      "[INFO] sheep with lamb \t 1 \t Image saved at: /Users/christianjensen/Library/CloudStorage/OneDrive-UniversityofCopenhagen/2 - Projects/DM-AI-2022/pig_detection/Google-Image-Scraper-master/photos/sheep with lamb/sheepwithlamb1.jpeg\n",
      "--------------------------------------------------\n",
      "[INFO] Downloads completed. Please note that some photos were not downloaded as they were not in the correct format (e.g. jpg, jpeg, png)\n",
      "goat with kid\n",
      "[INFO] Image path not found. Creating a new folder.\n"
     ]
    },
    {
     "name": "stderr",
     "output_type": "stream",
     "text": [
      "Driver [/Users/christianjensen/.wdm/drivers/chromedriver/mac64/105.0.5195.52/chromedriver] found in cache\n"
     ]
    },
    {
     "name": "stdout",
     "output_type": "stream",
     "text": [
      "[INFO] Gathering image links\n",
      "[INFO] goat with kid \t #0 \t https://www.treehugger.com/thmb/g3-tb-_Zk3ZOYp4KKKXUYkZSYxQ=/3240x2160/filters:fill(auto,1)/raise-and-care-baby-goat-kids-3016479-05-708d1931d57b4067a507540bc53edc51.jpg\n",
      "[INFO] goat with kid \t #1 \t https://i.ytimg.com/vi/mtOD19C7J48/maxresdefault.jpg\n",
      "[INFO] goat with kid \t #2 \t https://img.hobbyfarms.com/wp-content/uploads/2019/02/15162538/goat-kid-67139272.jpg\n",
      "[INFO] goat with kid \t #3 \t https://backyardgoats.iamcountryside.com/wp-content/uploads/sites/2/2019/03/goat-kids-2.jpg\n",
      "[INFO] goat with kid \t #4 \t https://res.cloudinary.com/dk-find-out/image/upload/q_70,c_pad,w_1200,h_630,f_auto/MA_00102257_pfqb6s.jpg\n",
      "[INFO] goat with kid \t #5 \t https://morningchores.com/wp-content/uploads/2019/04/Suckling-the-Vital-Importance-of-Colostrum-for-Goat-Kids-FI.jpg\n",
      "[INFO] goat with kid \t #6 \t https://opensanctuary.org/wp-content/uploads/2020/09/baby-2-1024x688.jpg\n",
      "[INFO] goat with kid \t #7 \t https://www.kalmbachfeeds.com/wp-content/uploads/2021/11/Goat-Article-11.23.21-Blog-Header.jpg\n",
      "[INFO] goat with kid \t #8 \t https://redwoodhill.com/assets/_AUTOxAUTO_crop_center-center_100_none/842/RedwoodHillFarm_TangoQuadruplets.webp\n",
      "[INFO] goat with kid \t #9 \t https://thumbs.dreamstime.com/b/goat-kid-meadow-37587704.jpg\n",
      "[INFO] Google search ended\n",
      "False\n",
      "[INFO] Saving image, please wait...\n",
      "[INFO] Image url:https://www.treehugger.com/thmb/g3-tb-_Zk3ZOYp4KKKXUYkZSYxQ=/3240x2160/filters:fill(auto,1)/raise-and-care-baby-goat-kids-3016479-05-708d1931d57b4067a507540bc53edc51.jpg\n",
      "[INFO] goat with kid \t 0 \t Image saved at: /Users/christianjensen/Library/CloudStorage/OneDrive-UniversityofCopenhagen/2 - Projects/DM-AI-2022/pig_detection/Google-Image-Scraper-master/photos/goat with kid/goatwithkid0.jpeg\n",
      "[INFO] Image url:https://i.ytimg.com/vi/mtOD19C7J48/maxresdefault.jpg\n",
      "[INFO] goat with kid \t 1 \t Image saved at: /Users/christianjensen/Library/CloudStorage/OneDrive-UniversityofCopenhagen/2 - Projects/DM-AI-2022/pig_detection/Google-Image-Scraper-master/photos/goat with kid/goatwithkid1.jpeg\n",
      "[INFO] Image url:https://img.hobbyfarms.com/wp-content/uploads/2019/02/15162538/goat-kid-67139272.jpg\n",
      "[INFO] goat with kid \t 2 \t Image saved at: /Users/christianjensen/Library/CloudStorage/OneDrive-UniversityofCopenhagen/2 - Projects/DM-AI-2022/pig_detection/Google-Image-Scraper-master/photos/goat with kid/goatwithkid2.jpeg\n",
      "[INFO] Image url:https://backyardgoats.iamcountryside.com/wp-content/uploads/sites/2/2019/03/goat-kids-2.jpg\n",
      "[INFO] goat with kid \t 3 \t Image saved at: /Users/christianjensen/Library/CloudStorage/OneDrive-UniversityofCopenhagen/2 - Projects/DM-AI-2022/pig_detection/Google-Image-Scraper-master/photos/goat with kid/goatwithkid3.jpeg\n",
      "[INFO] Image url:https://res.cloudinary.com/dk-find-out/image/upload/q_70,c_pad,w_1200,h_630,f_auto/MA_00102257_pfqb6s.jpg\n",
      "[INFO] goat with kid \t 4 \t Image saved at: /Users/christianjensen/Library/CloudStorage/OneDrive-UniversityofCopenhagen/2 - Projects/DM-AI-2022/pig_detection/Google-Image-Scraper-master/photos/goat with kid/goatwithkid4.jpeg\n",
      "[INFO] Image url:https://morningchores.com/wp-content/uploads/2019/04/Suckling-the-Vital-Importance-of-Colostrum-for-Goat-Kids-FI.jpg\n",
      "[INFO] goat with kid \t 5 \t Image saved at: /Users/christianjensen/Library/CloudStorage/OneDrive-UniversityofCopenhagen/2 - Projects/DM-AI-2022/pig_detection/Google-Image-Scraper-master/photos/goat with kid/goatwithkid5.jpeg\n",
      "[INFO] Image url:https://opensanctuary.org/wp-content/uploads/2020/09/baby-2-1024x688.jpg\n",
      "[INFO] goat with kid \t 6 \t Image saved at: /Users/christianjensen/Library/CloudStorage/OneDrive-UniversityofCopenhagen/2 - Projects/DM-AI-2022/pig_detection/Google-Image-Scraper-master/photos/goat with kid/goatwithkid6.jpeg\n",
      "[INFO] Image url:https://www.kalmbachfeeds.com/wp-content/uploads/2021/11/Goat-Article-11.23.21-Blog-Header.jpg\n",
      "[INFO] goat with kid \t 7 \t Image saved at: /Users/christianjensen/Library/CloudStorage/OneDrive-UniversityofCopenhagen/2 - Projects/DM-AI-2022/pig_detection/Google-Image-Scraper-master/photos/goat with kid/goatwithkid7.jpeg\n",
      "[INFO] Image url:https://redwoodhill.com/assets/_AUTOxAUTO_crop_center-center_100_none/842/RedwoodHillFarm_TangoQuadruplets.webp\n",
      "[INFO] goat with kid \t 8 \t Image saved at: /Users/christianjensen/Library/CloudStorage/OneDrive-UniversityofCopenhagen/2 - Projects/DM-AI-2022/pig_detection/Google-Image-Scraper-master/photos/goat with kid/goatwithkid8.webp\n",
      "[INFO] Image url:https://thumbs.dreamstime.com/b/goat-kid-meadow-37587704.jpg\n"
     ]
    },
    {
     "name": "stderr",
     "output_type": "stream",
     "text": [
      "\n",
      "\n",
      "====== WebDriver manager ======\n",
      "Current google-chrome version is 105.0.5195\n",
      "Get LATEST chromedriver version for 105.0.5195 google-chrome\n"
     ]
    },
    {
     "name": "stdout",
     "output_type": "stream",
     "text": [
      "[INFO] goat with kid \t 9 \t Image saved at: /Users/christianjensen/Library/CloudStorage/OneDrive-UniversityofCopenhagen/2 - Projects/DM-AI-2022/pig_detection/Google-Image-Scraper-master/photos/goat with kid/goatwithkid9.jpeg\n",
      "--------------------------------------------------\n",
      "[INFO] Downloads completed. Please note that some photos were not downloaded as they were not in the correct format (e.g. jpg, jpeg, png)\n",
      "bear with cub\n",
      "[INFO] Image path not found. Creating a new folder.\n"
     ]
    },
    {
     "name": "stderr",
     "output_type": "stream",
     "text": [
      "Driver [/Users/christianjensen/.wdm/drivers/chromedriver/mac64/105.0.5195.52/chromedriver] found in cache\n"
     ]
    },
    {
     "name": "stdout",
     "output_type": "stream",
     "text": [
      "[INFO] Gathering image links\n",
      "[INFO] bear with cub \t #0 \t https://static.boredpanda.com/blog/wp-content/uploads/2016/09/mother-bear-cubs-animal-parenting-21-57e3a2161d7f7__880.jpg\n",
      "[INFO] bear with cub \t #1 \t https://i.natgeofe.com/n/a9ad8fe0-7079-4db0-8b36-ce98676dcfe3/bears-shield-cubs_3x4.jpg\n",
      "[INFO] bear with cub \t #2 \t https://media.istockphoto.com/photos/female-eurasian-brown-bear-and-her-cubs-in-boreal-forest-picture-id1157179233?k=20&m=1157179233&s=612x612&w=0&h=aRqqD0pfM-L7_KoRoZAf1diQ2rsFZz1i4KlUFHTHt5I=\n",
      "[INFO] bear with cub \t #3 \t https://i.pinimg.com/originals/c2/93/5f/c2935f117f5f113b6d4ee51be1d32927.jpg\n",
      "[INFO] bear with cub \t #4 \t https://cdn.theatlantic.com/thumbor/yFul9DSQ9KffBmlyDrVoMN5O0vY=/168x0:2029x1396/1200x900/media/img/mt/2018/11/RTR2LRMX/original.jpg\n",
      "[INFO] bear with cub \t #5 \t https://www.thesun.co.uk/wp-content/uploads/2021/08/8a3b9f53-ea02-4d60-a28b-2db008c4fae5.jpg\n",
      "[INFO] bear with cub \t #6 \t https://st2.depositphotos.com/3588977/10515/i/950/depositphotos_105157924-stock-photo-mother-bear-and-cub.jpg\n",
      "[INFO] bear with cub \t #7 \t https://helios-i.mashable.com/imagery/articles/031Iv0U8a6DJ7uIsD2TVcSK/hero-image.fill.size_1200x1200.v1623390122.png\n",
      "[INFO] bear with cub \t #8 \t https://assets.nrdc.org/sites/default/files/styles/one_half_content/public/trumpwatch_hunting_177407325_900x600_1.jpg?itok=K9ZXL_Qx\n",
      "[INFO] bear with cub \t #9 \t https://image.shutterstock.com/image-photo/bear-cub-clearing-grass-260nw-1930192907.jpg\n",
      "[INFO] Google search ended\n",
      "False\n",
      "[INFO] Saving image, please wait...\n",
      "[INFO] Image url:https://static.boredpanda.com/blog/wp-content/uploads/2016/09/mother-bear-cubs-animal-parenting-21-57e3a2161d7f7__880.jpg\n",
      "[INFO] bear with cub \t 0 \t Image saved at: /Users/christianjensen/Library/CloudStorage/OneDrive-UniversityofCopenhagen/2 - Projects/DM-AI-2022/pig_detection/Google-Image-Scraper-master/photos/bear with cub/bearwithcub0.jpeg\n",
      "[INFO] Image url:https://i.natgeofe.com/n/a9ad8fe0-7079-4db0-8b36-ce98676dcfe3/bears-shield-cubs_3x4.jpg\n",
      "[INFO] bear with cub \t 1 \t Image saved at: /Users/christianjensen/Library/CloudStorage/OneDrive-UniversityofCopenhagen/2 - Projects/DM-AI-2022/pig_detection/Google-Image-Scraper-master/photos/bear with cub/bearwithcub1.jpeg\n",
      "[INFO] Image url:https://media.istockphoto.com/photos/female-eurasian-brown-bear-and-her-cubs-in-boreal-forest-picture-id1157179233?k=20&m=1157179233&s=612x612&w=0&h=aRqqD0pfM-L7_KoRoZAf1diQ2rsFZz1i4KlUFHTHt5I=\n",
      "[INFO] bear with cub \t 2 \t Image saved at: /Users/christianjensen/Library/CloudStorage/OneDrive-UniversityofCopenhagen/2 - Projects/DM-AI-2022/pig_detection/Google-Image-Scraper-master/photos/bear with cub/bearwithcub2.jpeg\n",
      "[INFO] Image url:https://i.pinimg.com/originals/c2/93/5f/c2935f117f5f113b6d4ee51be1d32927.jpg\n",
      "[INFO] bear with cub \t 3 \t Image saved at: /Users/christianjensen/Library/CloudStorage/OneDrive-UniversityofCopenhagen/2 - Projects/DM-AI-2022/pig_detection/Google-Image-Scraper-master/photos/bear with cub/bearwithcub3.jpeg\n",
      "[INFO] Image url:https://cdn.theatlantic.com/thumbor/yFul9DSQ9KffBmlyDrVoMN5O0vY=/168x0:2029x1396/1200x900/media/img/mt/2018/11/RTR2LRMX/original.jpg\n",
      "[INFO] bear with cub \t 4 \t Image saved at: /Users/christianjensen/Library/CloudStorage/OneDrive-UniversityofCopenhagen/2 - Projects/DM-AI-2022/pig_detection/Google-Image-Scraper-master/photos/bear with cub/bearwithcub4.jpeg\n",
      "[INFO] Image url:https://www.thesun.co.uk/wp-content/uploads/2021/08/8a3b9f53-ea02-4d60-a28b-2db008c4fae5.jpg\n",
      "[INFO] bear with cub \t 5 \t Image saved at: /Users/christianjensen/Library/CloudStorage/OneDrive-UniversityofCopenhagen/2 - Projects/DM-AI-2022/pig_detection/Google-Image-Scraper-master/photos/bear with cub/bearwithcub5.jpeg\n",
      "[INFO] Image url:https://st2.depositphotos.com/3588977/10515/i/950/depositphotos_105157924-stock-photo-mother-bear-and-cub.jpg\n",
      "[INFO] bear with cub \t 6 \t Image saved at: /Users/christianjensen/Library/CloudStorage/OneDrive-UniversityofCopenhagen/2 - Projects/DM-AI-2022/pig_detection/Google-Image-Scraper-master/photos/bear with cub/bearwithcub6.jpeg\n",
      "[INFO] Image url:https://helios-i.mashable.com/imagery/articles/031Iv0U8a6DJ7uIsD2TVcSK/hero-image.fill.size_1200x1200.v1623390122.png\n",
      "[INFO] bear with cub \t 7 \t Image saved at: /Users/christianjensen/Library/CloudStorage/OneDrive-UniversityofCopenhagen/2 - Projects/DM-AI-2022/pig_detection/Google-Image-Scraper-master/photos/bear with cub/bearwithcub7.png\n",
      "[INFO] Image url:https://assets.nrdc.org/sites/default/files/styles/one_half_content/public/trumpwatch_hunting_177407325_900x600_1.jpg?itok=K9ZXL_Qx\n",
      "[INFO] bear with cub \t 8 \t Image saved at: /Users/christianjensen/Library/CloudStorage/OneDrive-UniversityofCopenhagen/2 - Projects/DM-AI-2022/pig_detection/Google-Image-Scraper-master/photos/bear with cub/bearwithcub8.jpeg\n",
      "[INFO] Image url:https://image.shutterstock.com/image-photo/bear-cub-clearing-grass-260nw-1930192907.jpg\n",
      "[INFO] bear with cub \t 9 \t Image saved at: /Users/christianjensen/Library/CloudStorage/OneDrive-UniversityofCopenhagen/2 - Projects/DM-AI-2022/pig_detection/Google-Image-Scraper-master/photos/bear with cub/bearwithcub9.jpeg\n",
      "--------------------------------------------------\n",
      "[INFO] Downloads completed. Please note that some photos were not downloaded as they were not in the correct format (e.g. jpg, jpeg, png)\n"
     ]
    }
   ],
   "source": [
    "import os\n",
    "from GoogleImageScraper import GoogleImageScraper\n",
    "from patch import webdriver_executable\n",
    "\n",
    "webdriver_path = os.path.normpath(os.path.join(os.getcwd(), 'webdriver', webdriver_executable()))\n",
    "image_path = os.path.normpath(os.path.join(os.getcwd(), 'photos'))\n",
    "#add new search key into array [\"cat\",\"t-shirt\",\"apple\",\"orange\",\"pear\",\"fish\"]\n",
    "search_keys= [\"horse\",\"dog\",\"cow\", \"sheep\", \"goat\",\"bear\", \"dog with puppies\", \"cow with calf\", \"sheep with lamb\", \"goat with kid\", \"bear with cub\"]\n",
    "number_of_images = 10\n",
    "headless = False\n",
    "min_resolution=(0,0)\n",
    "max_resolution=(1920,1080)\n",
    "max_missed = 20\n",
    "\n",
    "for search_key in search_keys:\n",
    "    print(search_key)\n",
    "    image_scraper = GoogleImageScraper(image_path,search_key,number_of_images,headless,min_resolution,max_resolution, max_missed)\n",
    "    image_urls = image_scraper.find_image_urls()\n",
    "    image_scraper.save_images(image_urls, False)\n"
   ]
  }
 ],
 "metadata": {
  "kernelspec": {
   "display_name": "Python 3.9.10 64-bit",
   "language": "python",
   "name": "python3"
  },
  "language_info": {
   "codemirror_mode": {
    "name": "ipython",
    "version": 3
   },
   "file_extension": ".py",
   "mimetype": "text/x-python",
   "name": "python",
   "nbconvert_exporter": "python",
   "pygments_lexer": "ipython3",
   "version": "3.9.10"
  },
  "vscode": {
   "interpreter": {
    "hash": "b0fa6594d8f4cbf19f97940f81e996739fb7646882a419484c72d19e05852a7e"
   }
  }
 },
 "nbformat": 4,
 "nbformat_minor": 4
}
